{
 "cells": [
  {
   "cell_type": "markdown",
   "metadata": {},
   "source": [
    "<h3><b>Q1 to Q10 have only one correct answer. Choose the correct option to answer your question.</b></h3>"
   ]
  },
  {
   "cell_type": "markdown",
   "metadata": {},
   "source": [
    "1.\tWhich of the following operators can be used to concatenate two lists?<br>\n",
    "A)\t*\tB) &<br>\n",
    "C) +\tD) none of the above\n"
   ]
  },
  {
   "cell_type": "markdown",
   "metadata": {},
   "source": [
    "<b>Answer:</b> C) +"
   ]
  },
  {
   "cell_type": "markdown",
   "metadata": {},
   "source": [
    "2.\tConsider the below two statements and select the correct option accordingly<br>\n",
    "i.\tList is an immutable data type like strings.<br>\n",
    "ii.\tLists are two dimenionsal data-structures.<br>\n",
    "A)\ti-True, ii-False\tB) i-True, ii-True<br>\n",
    "C) i-False, ii-False\tD) i-False, ii-True<br>"
   ]
  },
  {
   "cell_type": "markdown",
   "metadata": {},
   "source": [
    "<b>Answer:</b> C) i-False, ii-False"
   ]
  },
  {
   "cell_type": "markdown",
   "metadata": {},
   "source": [
    "3.\tWhat will be the output of the following list comprehension?<br>\n",
    "L=[x.upper() for x in [“abc”,” rahul”,” nitin”]]<br>\n",
    "A)\t[“aBc”,” Rahul”,” nitIN”]\tB) [“ABC”,” RAHUL”,” NITIN”]<br>\n",
    "C) [“ABc”,” RAHul”,” NItin”]\tD) None of the above<br>\n"
   ]
  },
  {
   "cell_type": "markdown",
   "metadata": {},
   "source": [
    "<b>Answer:</b> B) [\"ABC\", \"RAHUL\",\"NITIN\"]"
   ]
  },
  {
   "cell_type": "markdown",
   "metadata": {},
   "source": [
    "4.\tWhat will be the output of the following list comprehension?<br>\n",
    "L = [x for x in [1,2,3,4,5,6] if x%2==0]<br>\n",
    "A) [2,3,4]\tB) [1,3,4]<br>\n",
    "C) [4,5,6]\tD) [2,4,6]<br>\n"
   ]
  },
  {
   "cell_type": "markdown",
   "metadata": {},
   "source": [
    "<b>Answer:</b> D) [2,4,6]"
   ]
  },
  {
   "cell_type": "markdown",
   "metadata": {},
   "source": [
    "5.\tWhat will be the output of the following line of code?<br>\n",
    "A = [2,3,45,6,8,9]<br>\n",
    "B = A[1:4]<br>\n",
    "C = [ x for x in B if x%2==0]<br>\n",
    "A) [3,45,6]\t B) [45]<br>\n",
    "C) [6]\t D) [45,6]<br>\n"
   ]
  },
  {
   "cell_type": "markdown",
   "metadata": {},
   "source": [
    "<b>Answer:</b> C) [6]"
   ]
  },
  {
   "cell_type": "markdown",
   "metadata": {},
   "source": [
    "6.\tWhat will be the output of following lines of code? <br>\n",
    "a = {1,4,6,8}<br>\n",
    "b = {2,4,6,8}<br>\n",
    "c = {1,3,5,7}<br>\n",
    "print(a.intersection(a.difference(b)))<br>\n",
    "A) {2,3}\tB) {3,5}<br>\n",
    "C) {1,7}\tD) None of the above<br>\n"
   ]
  },
  {
   "cell_type": "markdown",
   "metadata": {},
   "source": [
    "<b>Answer:</b> D) None of the above"
   ]
  },
  {
   "cell_type": "markdown",
   "metadata": {},
   "source": [
    "7.\tWhat will be the output of the following lines of code?<br>\n",
    "A = {1,22,22,3}<br>\n",
    "print(a)<br>\n",
    "A) {1,22,22,3}\tB) error<br>\n",
    "C) {1,3,22}\tD) None of the above<br>\n"
   ]
  },
  {
   "cell_type": "markdown",
   "metadata": {},
   "source": [
    "<b>Answer:</b> D) None of the above"
   ]
  },
  {
   "cell_type": "markdown",
   "metadata": {},
   "source": [
    "8.\tBy which of the following ways you can access the set {1,2,3} in the following line of code?<br>\n",
    "a=[\"asd\",[\"d\",{1,2,3},3],23]<br>\n",
    "A) a[0][2]\tB) a[1][0]<br>\n",
    "C) a[1][1]\tD) None of the above<br>\n"
   ]
  },
  {
   "cell_type": "markdown",
   "metadata": {},
   "source": [
    "<b>Answer:</b> C) a[1][1]"
   ]
  },
  {
   "cell_type": "markdown",
   "metadata": {},
   "source": [
    "9.\tWhich of the following is not a method of sets in python?<br>\n",
    "A)\tdifference()\tB) intersection()<br>\n",
    "C) symmetric_difference()\tD) None of the above<br>\n"
   ]
  },
  {
   "cell_type": "markdown",
   "metadata": {},
   "source": [
    "<b>Answer:</b> D) None of the above"
   ]
  },
  {
   "cell_type": "markdown",
   "metadata": {},
   "source": [
    "10.\tWhich of the following is true with respect to sets in python? (More Than One options may be correct. Mark all the correct options)<br>\n",
    "A)\tsets are one-dimensional data structures<br>\n",
    "B)\tno two elements of a set can be same<br>\n",
    "C)\tsets are immutable<br>\n",
    "D)\tAll of the above.<br>\n"
   ]
  },
  {
   "cell_type": "markdown",
   "metadata": {},
   "source": [
    "<b> Answer:</b> D) All of the above"
   ]
  },
  {
   "cell_type": "markdown",
   "metadata": {},
   "source": [
    "<b>Q11 is subjective answer type question, answer it briefly.</b>\n",
    "11.\tList any two major differences between lists and sets in python."
   ]
  },
  {
   "cell_type": "markdown",
   "metadata": {},
   "source": [
    "<b>Answer:</b>\n",
    "<ol>\n",
    "<li> A List any two major differences between lists and sets in python.</li>\n",
    "<li> A List can be sliced (using [a:b] notation) whereas set cannot be sliced in python.</li>\n",
    "</ol>"
   ]
  },
  {
   "cell_type": "markdown",
   "metadata": {},
   "source": [
    "<b>Q12 to Q15 are programming questions. Answer them in Jupyter Notebook.</b>"
   ]
  },
  {
   "cell_type": "markdown",
   "metadata": {},
   "source": [
    "12.\twrite a python program to square the elements of a list by using list comprehension."
   ]
  },
  {
   "cell_type": "code",
   "execution_count": 30,
   "metadata": {},
   "outputs": [
    {
     "name": "stdout",
     "output_type": "stream",
     "text": [
      "[1, 4, 9, 16, 25]\n"
     ]
    }
   ],
   "source": [
    "numbers = [1, 2, 3, 4, 5]\n",
    "\n",
    "squared_numbers = [number ** 2 for number in numbers]\n",
    "\n",
    "print(squared_numbers)"
   ]
  },
  {
   "cell_type": "markdown",
   "metadata": {},
   "source": [
    "13.\tWrite a python program to drop duplicate elements from a list of numbers."
   ]
  },
  {
   "cell_type": "code",
   "execution_count": 19,
   "metadata": {},
   "outputs": [
    {
     "name": "stdout",
     "output_type": "stream",
     "text": [
      "['abc', 'bca', 'cba']\n"
     ]
    }
   ],
   "source": [
    "mylist = [\"abc\", \"bca\", \"abc\", \"cba\", \"cba\"]\n",
    "mylist = list(dict.fromkeys(mylist))\n",
    "print(mylist)"
   ]
  },
  {
   "cell_type": "markdown",
   "metadata": {},
   "source": [
    "14.\tTake two sets of numbers and try implementing the set operations - intersection, union, difference and symmetric_difference between them."
   ]
  },
  {
   "cell_type": "code",
   "execution_count": 27,
   "metadata": {},
   "outputs": [
    {
     "name": "stdout",
     "output_type": "stream",
     "text": [
      "Intersection:\n",
      "{2, 3}\n",
      "union:\n",
      "{1, 2, 3, 4}\n",
      "difference:\n",
      "{1}\n",
      "symmetric_difference:\n",
      "{1, 4}\n"
     ]
    }
   ],
   "source": [
    "a = set([1, 2, 3])\n",
    "b = set([2, 3, 4])\n",
    "\n",
    "print(\"Intersection:\")\n",
    "result = {element for element in a if element in b}\n",
    "print(result)\n",
    "\n",
    "print(\"union:\")\n",
    "c = set()\n",
    "for element in a: \n",
    "    c.add(element)\n",
    "\n",
    "for element in b: \n",
    "    c.add(element)\n",
    "print(c)\n",
    "\n",
    "\n",
    "print(\"difference:\")\n",
    "a = set([1, 2, 3])\n",
    "b = set([2, 3, 4])\n",
    "c = {element for element in a if element not in b}\n",
    "print(c)\n",
    "\n",
    "print(\"symmetric_difference:\")\n",
    "a = set([1, 2, 3])\n",
    "b = set([2, 3, 4])\n",
    "c = set()\n",
    "\n",
    "for element in a:\n",
    "    if element not in b:\n",
    "        c.add(element)\n",
    "\n",
    "for element in b:\n",
    "    if element not in a:\n",
    "        c.add(element)\n",
    "\n",
    "print(c)"
   ]
  },
  {
   "cell_type": "markdown",
   "metadata": {},
   "source": [
    "15.\tWrite a python program to add the elements of a set."
   ]
  },
  {
   "cell_type": "code",
   "execution_count": 23,
   "metadata": {},
   "outputs": [
    {
     "name": "stdout",
     "output_type": "stream",
     "text": [
      "The Elements of Sets are: {'fab', 'rasa', 'ubuntu', 'kali', 'Docker'}\n"
     ]
    }
   ],
   "source": [
    "X= {'fab', 'rasa', 'Docker'}\n",
    "Y= {'kali', 'ubuntu'}\n",
    "Z= X|Y\n",
    "print(\"The Elements of Sets are:\",Z)"
   ]
  }
 ],
 "metadata": {
  "kernelspec": {
   "display_name": "Python 3",
   "language": "python",
   "name": "python3"
  },
  "language_info": {
   "codemirror_mode": {
    "name": "ipython",
    "version": 3
   },
   "file_extension": ".py",
   "mimetype": "text/x-python",
   "name": "python",
   "nbconvert_exporter": "python",
   "pygments_lexer": "ipython3",
   "version": "3.8.3"
  }
 },
 "nbformat": 4,
 "nbformat_minor": 4
}
