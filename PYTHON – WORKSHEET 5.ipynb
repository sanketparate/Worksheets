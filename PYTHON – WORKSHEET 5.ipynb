{
 "cells": [
  {
   "cell_type": "markdown",
   "metadata": {},
   "source": [
    "<h3><b>Q1 to Q10 have only one correct answer. Choose the correct option to answer your question.</b></h3>"
   ]
  },
  {
   "cell_type": "markdown",
   "metadata": {},
   "source": [
    "1.\tWhich of the following operators can be used to concatenate two lists?<br>\n",
    "A)\t*\tB) &<br>\n",
    "C) +\tD) none of the above\n"
   ]
  },
  {
   "cell_type": "markdown",
   "metadata": {},
   "source": [
    "<b>Answer:</b> C) +"
   ]
  },
  {
   "cell_type": "markdown",
   "metadata": {},
   "source": [
    "2.\tConsider the below two statements and select the correct option accordingly<br>\n",
    "i.\tList is an immutable data type like strings.<br>\n",
    "ii.\tLists are two dimenionsal data-structures.<br>\n",
    "A)\ti-True, ii-False\tB) i-True, ii-True<br>\n",
    "C) i-False, ii-False\tD) i-False, ii-True<br>"
   ]
  },
  {
   "cell_type": "markdown",
   "metadata": {},
   "source": [
    "<b>Answer:</b> D) i-False, ii-True"
   ]
  },
  {
   "cell_type": "markdown",
   "metadata": {},
   "source": [
    "3.\tWhat will be the output of the following list comprehension?<br>\n",
    "L=[x.upper() for x in [“abc”,” rahul”,” nitin”]]<br>\n",
    "A)\t[“aBc”,” Rahul”,” nitIN”]\tB) [“ABC”,” RAHUL”,” NITIN”]<br>\n",
    "C) [“ABc”,” RAHul”,” NItin”]\tD) None of the above<br>\n"
   ]
  },
  {
   "cell_type": "markdown",
   "metadata": {},
   "source": [
    "<b>Answer:</b> B) [\"ABC\", \"RAHUL\",\"NITIN\"]"
   ]
  },
  {
   "cell_type": "markdown",
   "metadata": {},
   "source": [
    "4.\tWhat will be the output of the following list comprehension?<br>\n",
    "L = [x for x in [1,2,3,4,5,6] if x%2==0]<br>\n",
    "A) [2,3,4]\tB) [1,3,4]<br>\n",
    "C) [4,5,6]\tD) [2,4,6]<br>\n"
   ]
  },
  {
   "cell_type": "markdown",
   "metadata": {},
   "source": [
    "<b>Answer:</b> D) [2,4,6]"
   ]
  },
  {
   "cell_type": "markdown",
   "metadata": {},
   "source": [
    "5.\tWhat will be the output of the following line of code?<br>\n",
    "A = [2,3,45,6,8,9]<br>\n",
    "B = A[1:4]<br>\n",
    "C = [ x for x in B if x%2==0]<br>\n",
    "A) [3,45,6]\t B) [45]<br>\n",
    "C) [6]\t D) [45,6]<br>\n"
   ]
  },
  {
   "cell_type": "markdown",
   "metadata": {},
   "source": [
    "<b>Answer:</b> C) [6]"
   ]
  },
  {
   "cell_type": "markdown",
   "metadata": {},
   "source": [
    "6.\tWhat will be the output of following lines of code? <br>\n",
    "a = {1,4,6,8}<br>\n",
    "b = {2,4,6,8}<br>\n",
    "c = {1,3,5,7}<br>\n",
    "print(a.intersection(a.difference(b)))<br>\n",
    "A) {2,3}\tB) {3,5}<br>\n",
    "C) {1,7}\tD) None of the above<br>\n"
   ]
  },
  {
   "cell_type": "markdown",
   "metadata": {},
   "source": [
    "<b>Answer:</b> D) None of the above"
   ]
  },
  {
   "cell_type": "markdown",
   "metadata": {},
   "source": [
    "7.\tWhat will be the output of the following lines of code?<br>\n",
    "A = {1,22,22,3}<br>\n",
    "print(a)<br>\n",
    "A) {1,22,22,3}\tB) error<br>\n",
    "C) {1,3,22}\tD) None of the above<br>\n"
   ]
  },
  {
   "cell_type": "markdown",
   "metadata": {},
   "source": [
    "<b>Answer:</b> B) error"
   ]
  },
  {
   "cell_type": "markdown",
   "metadata": {},
   "source": [
    "8.\tBy which of the following ways you can access the set {1,2,3} in the following line of code?<br>\n",
    "a=[\"asd\",[\"d\",{1,2,3},3],23]<br>\n",
    "A) a[0][2]\tB) a[1][0]<br>\n",
    "C) a[1][1]\tD) None of the above<br>\n"
   ]
  },
  {
   "cell_type": "markdown",
   "metadata": {},
   "source": [
    "<b>Answer:</b> C) a[1][1]"
   ]
  },
  {
   "cell_type": "markdown",
   "metadata": {},
   "source": [
    "9.\tWhich of the following is not a method of sets in python?<br>\n",
    "A)\tdifference()\tB) intersection()<br>\n",
    "C) symmetric_difference()\tD) None of the above<br>\n"
   ]
  },
  {
   "cell_type": "markdown",
   "metadata": {},
   "source": [
    "<b>Answer:</b> D) None of the above"
   ]
  },
  {
   "cell_type": "markdown",
   "metadata": {},
   "source": [
    "10.\tWhich of the following is true with respect to sets in python? (More Than One options may be correct. Mark all the correct options)<br>\n",
    "A)\tsets are one-dimensional data structures<br>\n",
    "B)\tno two elements of a set can be same<br>\n",
    "C)\tsets are immutable<br>\n",
    "D)\tAll of the above.<br>\n"
   ]
  },
  {
   "cell_type": "markdown",
   "metadata": {},
   "source": [
    "<b> Answer:</b> A) sets are one-dimensional data structures<br>\n",
    "B) no two elements of a set can be same"
   ]
  },
  {
   "cell_type": "markdown",
   "metadata": {},
   "source": [
    "<b>Q11 is subjective answer type question, answer it briefly.</b>\n",
    "11.\tList any two major differences between lists and sets in python."
   ]
  },
  {
   "cell_type": "markdown",
   "metadata": {},
   "source": [
    "<b>Answer:</b>\n",
    "<ol>\n",
    "(i) list is a sequence, i.e. it is an ordered collection of items. The order is given by indices. While sets are unordered collection of items. <br>                                                                                             \n",
    "(ii) list can have duplicate items but sets have only unique items.\n",
    "</ol>"
   ]
  },
  {
   "cell_type": "markdown",
   "metadata": {},
   "source": [
    "<b>Q12 to Q15 are programming questions. Answer them in Jupyter Notebook.</b>"
   ]
  },
  {
   "cell_type": "markdown",
   "metadata": {},
   "source": [
    "12.\twrite a python program to square the elements of a list by using list comprehension."
   ]
  },
  {
   "cell_type": "code",
   "execution_count": 3,
   "metadata": {},
   "outputs": [
    {
     "name": "stdout",
     "output_type": "stream",
     "text": [
      "enter the length of the list4\n",
      "enter element number 1:5\n",
      "enter element number 2:6\n",
      "enter element number 3:8\n",
      "enter element number 4:9\n",
      "the squared elements list is: [25, 36, 64, 81]\n"
     ]
    }
   ],
   "source": [
    "# program to square the elements of a list by using list comprehension\n",
    "n=int(input(\"enter the length of the list\"))\n",
    "l=[]\n",
    "for i in range(0,n):\n",
    "    l.append(int(input(\"enter element number {}:\".format(i+1))))\n",
    "squared_list=[i**2 for i in l]\n",
    "print(\"the squared elements list is:\",squared_list)"
   ]
  },
  {
   "cell_type": "markdown",
   "metadata": {},
   "source": [
    "13.\tWrite a python program to drop duplicate elements from a list of numbers."
   ]
  },
  {
   "cell_type": "code",
   "execution_count": 1,
   "metadata": {},
   "outputs": [
    {
     "name": "stdout",
     "output_type": "stream",
     "text": [
      "The final list with duplicate elements droped :  [1, 2, 3, 56, 7, 8]\n"
     ]
    }
   ],
   "source": [
    "# Program to drop duplicate elements from a list\n",
    "l=[1,2,3,3,56,7,8] #list with duplicate items\n",
    "k=[] #empty list\n",
    "for i in l :\n",
    "    if i in k:\n",
    "        l.remove(i)\n",
    "    else:\n",
    "        k.append(i)\n",
    "print(\"The final list with duplicate elements droped : \",l)"
   ]
  },
  {
   "cell_type": "markdown",
   "metadata": {},
   "source": [
    "14.\tTake two sets of numbers and try implementing the set operations - intersection, union, difference and symmetric_difference between them."
   ]
  },
  {
   "cell_type": "code",
   "execution_count": 2,
   "metadata": {},
   "outputs": [
    {
     "name": "stdout",
     "output_type": "stream",
     "text": [
      "the intersection is {24, 56}\n",
      "the union is {1, 2, 3, 45, 24, 56}\n",
      "the  set a difference set b is {1, 45}\n",
      "the symmetric_difference is {1, 2, 3, 45}\n"
     ]
    }
   ],
   "source": [
    "# Program to demonstrate set operations\n",
    "a={1,24,45,56} #set 1\n",
    "b={2,3,24,56} #set 2\n",
    "intersect_=a.intersection(b)\n",
    "print(\"the intersection is\",intersect_)\n",
    "\n",
    "union_=a.union(b)\n",
    "print(\"the union is\",union_)\n",
    "\n",
    "difference_=a.difference(b)\n",
    "print(\"the  set a difference set b is\",difference_)\n",
    "\n",
    "sd=a.symmetric_difference(b)\n",
    "print(\"the symmetric_difference is\",sd)"
   ]
  },
  {
   "cell_type": "markdown",
   "metadata": {},
   "source": [
    "15.\tWrite a python program to add the elements of a set."
   ]
  },
  {
   "cell_type": "code",
   "execution_count": 3,
   "metadata": {},
   "outputs": [
    {
     "name": "stdout",
     "output_type": "stream",
     "text": [
      "sum of elements of set is  205\n"
     ]
    }
   ],
   "source": [
    "# Program for adding elements to a set\n",
    "a= {1,3,45,67,89} #set\n",
    "sum_=0\n",
    "for i in a:\n",
    "    sum_=sum_+i\n",
    "print(\"sum of elements of set is \",sum_)"
   ]
  }
 ],
 "metadata": {
  "kernelspec": {
   "display_name": "Python 3",
   "language": "python",
   "name": "python3"
  },
  "language_info": {
   "codemirror_mode": {
    "name": "ipython",
    "version": 3
   },
   "file_extension": ".py",
   "mimetype": "text/x-python",
   "name": "python",
   "nbconvert_exporter": "python",
   "pygments_lexer": "ipython3",
   "version": "3.8.3"
  }
 },
 "nbformat": 4,
 "nbformat_minor": 4
}
