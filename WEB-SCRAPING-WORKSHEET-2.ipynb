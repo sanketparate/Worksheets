{
 "cells": [
  {
   "cell_type": "markdown",
   "metadata": {},
   "source": [
    "<b><u><center><h2>WEB SCRAPING – WORKSHEET 2</b></u></center></h2>"
   ]
  },
  {
   "cell_type": "markdown",
   "metadata": {},
   "source": [
    "<b>In Q1 to Q10, only one option is correct, Choose the correct option:</b>\n",
    "\n",
    "1. Which command method looks through a tag’s descendants and retrieves all descendants that match your filters?<br>\n",
    "A) search_all() B) get_all()\n",
    "C) find_all()   D) None of the above<br>\n",
    "\n",
    "Answer: A) search_all()\n",
    "\n",
    "2. Which operating system among the following is not supported by selenium.<br>\n",
    "A) Windows B) Linux\n",
    "C) Unix    D) Solaris<br>\n",
    "\n",
    "Answer: C) Unix\n",
    "\n",
    "3. Which of these languages is NOT supported by the Selenium RC.<br>\n",
    "A) Python B) Java\n",
    "C) ASP    D) C#<br>\n",
    "\n",
    "Answer: C) ASP\n",
    "\n",
    "4. Which of these commands is used to enter text in text_boxes.<br>\n",
    "A) sentkeys() B) sent_keys()\n",
    "C) keys.send() D) send_keys()<br>\n",
    "\n",
    "Answer: D) send_keys()\n",
    "\n",
    "5. Websites fetched by crawler are indexed and kept in huge database, this process is called as:<br>\n",
    "A) Optimizing B) Indexing\n",
    "C) Crawling D) None of them<br>\n",
    "\n",
    "Answer: B) Indexing\n",
    "\n",
    "6. Web Crawler is also called as:<br>\n",
    "A) Search Optimizer B) Web-manager\n",
    "C) Web-spider D) Linked Directory<br>\n",
    "\n",
    "Answer: C) Web-spider\n",
    "\n",
    "7. Which selenium command among the following makes WebDriver wait for a certain condition to occur before proceeding further with execution.<br>\n",
    "A) verifyTextPresent B) webdriver_wait\n",
    "C) WebDriverWait D) none of the above<br>\n",
    "\n",
    "Answer: C) WebDriverWait\n",
    "\n",
    "8. Which of the following are commonly used expected conditions in Selenium?<br>\n",
    "A) title_contains B) staleness_of\n",
    "C) verifyelement D) None of the above<br>\n",
    "\n",
    "Answer: C) verifyelement\n",
    "\n",
    "9. Where xpath is used?<br>\n",
    "A) MS word documents B) MS excel\n",
    "C) XML D) None of the above<br>\n",
    "\n",
    "Answer: C) XML\n",
    "\n",
    "10. Which of the following commands is used to find an element in a webpage from the id attribute of its tag.<br>\n",
    "A) find_element_BYid B) find_element_by_id\n",
    "C) find_elements_by_id D) None of the above<br>\n",
    "\n",
    "Answer: B) find_element_by_id"
   ]
  },
  {
   "cell_type": "markdown",
   "metadata": {},
   "source": [
    "<b>In Q11 to Q13, more than one options are correct, Choose all the correct options:</b>\n",
    "\n",
    "11. Consider the following line in a HTML code\n",
    "<a class=\"sister\" href=\"http://example.com/lacie\" id=\"link2\"># Lacie # </a>\n",
    "Which of the following are attributes of <a> tag here?<br>\n",
    "A) class B) href\n",
    "C) # Lacie # D) link2<br>\n",
    "\n",
    "Answer: A) class, B) href\n",
    "\n",
    "12. Which among the following is/are parsers used in BeautifulSoup?<br>\n",
    "A) href B) soup_parser\n",
    "C) lxml D) None of the above<br>\n",
    "\n",
    "Answer: B) soup_parser, C) lxml\n",
    "\n",
    "13. Select the packages you require generally in web-scraping.<br>\n",
    "A) Selenium B) BeautifulSoup\n",
    "C) Requests D) B&C only.<br>\n",
    "\n",
    "Answer: A) Selenium, B) BeautifulSoup, C) Requests"
   ]
  },
  {
   "cell_type": "markdown",
   "metadata": {},
   "source": [
    "<b>Q14 and Q15 are programming practice questions. Solve it using JUPYTER NOTEBOOK.</b>"
   ]
  },
  {
   "cell_type": "markdown",
   "metadata": {},
   "source": [
    "14. Write a python program to scrap 10 images of Rayban Sunglasses from flipkart website and save them in a directory."
   ]
  },
  {
   "cell_type": "code",
   "execution_count": 1,
   "metadata": {},
   "outputs": [],
   "source": [
    "# Scraping Rayban Glasses\n",
    "\n",
    "# Importing Libraries\n",
    "import selenium\n",
    "import pandas as pd\n",
    "import time\n",
    "\n",
    "# Importing selenium webdriver  \n",
    "from selenium import webdriver\n",
    "from selenium.webdriver.chrome.options import Options\n",
    "# Importing required Exceptions which needs to handled\n",
    "from selenium.common.exceptions import StaleElementReferenceException, NoSuchElementException, ElementClickInterceptedException"
   ]
  },
  {
   "cell_type": "code",
   "execution_count": 2,
   "metadata": {},
   "outputs": [],
   "source": [
    "# Activating the chrome browserhttp://localhost:8888/notebooks/Downloads/Job%20Crawl.ipynb#\n",
    "driver = webdriver.Chrome(r\"C:\\\\Users\\\\SANKET\\\\Music\\\\Fliprobo\\\\chromedriver.exe\")"
   ]
  },
  {
   "cell_type": "code",
   "execution_count": 7,
   "metadata": {},
   "outputs": [],
   "source": [
    "# Opening the homepage of Amazon.in\n",
    "driver.get('https://www.flipkart.com')"
   ]
  },
  {
   "cell_type": "code",
   "execution_count": 8,
   "metadata": {},
   "outputs": [],
   "source": [
    "# searching for raban sunglasses\n",
    "search_field=driver.find_element_by_xpath(\"//div[@class='O8ZS_U']/input\")\n",
    "search_field.send_keys(\"rayban sunglasses\")\n",
    "search_button=driver.find_element_by_xpath(\"//div[@class='col-12-12 _2tVp4j']/button\")\n",
    "search_button.submit()"
   ]
  },
  {
   "cell_type": "code",
   "execution_count": 9,
   "metadata": {},
   "outputs": [],
   "source": [
    "#getting the images url\n",
    "urls=[i.get_attribute('src') for i in driver.find_elements_by_xpath(\"//img[@class='_3togXc']\")]"
   ]
  },
  {
   "cell_type": "code",
   "execution_count": 10,
   "metadata": {},
   "outputs": [
    {
     "data": {
      "text/plain": [
       "40"
      ]
     },
     "execution_count": 10,
     "metadata": {},
     "output_type": "execute_result"
    }
   ],
   "source": [
    "len(urls)"
   ]
  },
  {
   "cell_type": "code",
   "execution_count": 11,
   "metadata": {},
   "outputs": [],
   "source": [
    "#create directory to save_images\n",
    "import os\n",
    "import requests\n",
    "def create_dir(dirname):\n",
    "     os.mkdir(os.path.join(os.getcwd(),dirname))\n",
    "     return (os.path.join(os.getcwd(),dirname))"
   ]
  },
  {
   "cell_type": "code",
   "execution_count": 12,
   "metadata": {},
   "outputs": [],
   "source": [
    "image_dir=create_dir(\"Rayban\")"
   ]
  },
  {
   "cell_type": "code",
   "execution_count": 13,
   "metadata": {},
   "outputs": [],
   "source": [
    "# reading the images  from urls and then saving them in the rayban directory created above\n",
    "for index,url in enumerate(urls):\n",
    "    response=requests.get(url)\n",
    "    with open(r\"\"+image_dir+\"/image{}\".format(index)+\".jpeg\",\"wb\") as f:\n",
    "        f.write(response.content)"
   ]
  },
  {
   "cell_type": "markdown",
   "metadata": {},
   "source": [
    "15. Write a program to scrap 20 mouses’ data which includes model name, price from www.amazon.in whose price\n",
    "is less than 500 and make a data frame with 2 columns “model_name”,” price” with the scraped data."
   ]
  },
  {
   "cell_type": "code",
   "execution_count": 14,
   "metadata": {},
   "outputs": [],
   "source": [
    "# Scraping Mouse data\n",
    "# Opening the homepage of Amazon.in\n",
    "driver.get('https://www.amazon.in/')"
   ]
  },
  {
   "cell_type": "code",
   "execution_count": 15,
   "metadata": {},
   "outputs": [],
   "source": [
    "# searching for mouses\n",
    "search_field=driver.find_element_by_xpath(\"//div[@class='nav-search-field ']/input\")\n",
    "search_field.send_keys(\"mouses\")\n",
    "search_button=driver.find_element_by_xpath(\"//div[@class='nav-search-submit nav-sprite']/span/input\")\n",
    "search_button.submit()"
   ]
  },
  {
   "cell_type": "code",
   "execution_count": 16,
   "metadata": {},
   "outputs": [],
   "source": [
    "#setting the price filter for price<500\n",
    "min_field=driver.find_element_by_xpath(\"//li[@id='p_36/price-range']/span[1]/form[1]/input[5]\")\n",
    "min_field.send_keys(\"0\")  \n",
    "max_field=driver.find_element_by_xpath(\"//li[@id='p_36/price-range']/span[1]/form[1]/input[6]\")    \n",
    "max_field.send_keys(\"500\")\n",
    "search_filter=driver.find_element_by_xpath(\"//li[@id='p_36/price-range']/span[1]/form[1]/span[3]/span[1]/input\")                                    \n",
    "search_filter.submit()                                       "
   ]
  },
  {
   "cell_type": "code",
   "execution_count": 17,
   "metadata": {},
   "outputs": [],
   "source": [
    "# getting the required info of the mouses\n",
    "price=[]\n",
    "model_name=[]\n",
    "for page in range(0,10):\n",
    "        if len(price)>20:\n",
    "            break\n",
    "        for i in driver.find_elements_by_xpath(\"//div[@class='a-row']/a/span[1]/span[2]/span[2]\"):\n",
    "            price.append(i.text)\n",
    "        for i in driver.find_elements_by_xpath(\"//h2[@class='a-size-mini a-spacing-none a-color-base s-line-clamp-2']/a/span\"):\n",
    "            model_name.append(i.text)\n",
    "        #getting the next page button and clicking\n",
    "        next_page=driver.find_element_by_xpath(\"//li[@class='a-last']/a\").get_attribute(\"href\")\n",
    "        driver.get(next_page)\n",
    "        \n",
    "   "
   ]
  },
  {
   "cell_type": "code",
   "execution_count": 18,
   "metadata": {
    "scrolled": true
   },
   "outputs": [
    {
     "data": {
      "text/html": [
       "<div>\n",
       "<style scoped>\n",
       "    .dataframe tbody tr th:only-of-type {\n",
       "        vertical-align: middle;\n",
       "    }\n",
       "\n",
       "    .dataframe tbody tr th {\n",
       "        vertical-align: top;\n",
       "    }\n",
       "\n",
       "    .dataframe thead th {\n",
       "        text-align: right;\n",
       "    }\n",
       "</style>\n",
       "<table border=\"1\" class=\"dataframe\">\n",
       "  <thead>\n",
       "    <tr style=\"text-align: right;\">\n",
       "      <th></th>\n",
       "      <th>model_name</th>\n",
       "      <th>price</th>\n",
       "    </tr>\n",
       "  </thead>\n",
       "  <tbody>\n",
       "    <tr>\n",
       "      <th>0</th>\n",
       "      <td>Zinq Technologies 818W Wireless Mouse with 160...</td>\n",
       "      <td>199</td>\n",
       "    </tr>\n",
       "    <tr>\n",
       "      <th>1</th>\n",
       "      <td>AmazonBasics 3-Button USB Wired Mouse (Black) ...</td>\n",
       "      <td>329</td>\n",
       "    </tr>\n",
       "    <tr>\n",
       "      <th>2</th>\n",
       "      <td>HP X1000 Wired Mouse (Black/Grey)</td>\n",
       "      <td>289</td>\n",
       "    </tr>\n",
       "    <tr>\n",
       "      <th>3</th>\n",
       "      <td>Lenovo 300 Wired USB Mouse, GX30M39704</td>\n",
       "      <td>249</td>\n",
       "    </tr>\n",
       "    <tr>\n",
       "      <th>4</th>\n",
       "      <td>Dell MS116 Optical Mouse</td>\n",
       "      <td>249</td>\n",
       "    </tr>\n",
       "    <tr>\n",
       "      <th>5</th>\n",
       "      <td>Zinq Technologies ZQ233 Wired Mouse with 1000D...</td>\n",
       "      <td>99</td>\n",
       "    </tr>\n",
       "    <tr>\n",
       "      <th>6</th>\n",
       "      <td>Logitech M90 Wired USB Mouse, 1000 DPI Optical...</td>\n",
       "      <td>390</td>\n",
       "    </tr>\n",
       "    <tr>\n",
       "      <th>7</th>\n",
       "      <td>Portronics Toad 12 POR-986 Wireless 2.4G Optic...</td>\n",
       "      <td>299</td>\n",
       "    </tr>\n",
       "    <tr>\n",
       "      <th>8</th>\n",
       "      <td>iBall Style 63 Optical Mouse (Black)</td>\n",
       "      <td>189</td>\n",
       "    </tr>\n",
       "    <tr>\n",
       "      <th>9</th>\n",
       "      <td>Zinq Technologies 818W Wireless Mouse with 160...</td>\n",
       "      <td>199</td>\n",
       "    </tr>\n",
       "    <tr>\n",
       "      <th>10</th>\n",
       "      <td>iBall Style 63 Optical Mouse (Black)</td>\n",
       "      <td>189</td>\n",
       "    </tr>\n",
       "    <tr>\n",
       "      <th>11</th>\n",
       "      <td>Goldentec 3-Button USB Wired Mouse (Black) - 1...</td>\n",
       "      <td>175</td>\n",
       "    </tr>\n",
       "    <tr>\n",
       "      <th>12</th>\n",
       "      <td>Ant Esports GM200W Gaming Mouse Wired, 6 Progr...</td>\n",
       "      <td>449</td>\n",
       "    </tr>\n",
       "    <tr>\n",
       "      <th>13</th>\n",
       "      <td>iBall FreeGo G20 High Speed Wireless Optical M...</td>\n",
       "      <td>339</td>\n",
       "    </tr>\n",
       "    <tr>\n",
       "      <th>14</th>\n",
       "      <td>Dell MS116 1000DPI USB Wired Optical Mouse</td>\n",
       "      <td>312</td>\n",
       "    </tr>\n",
       "    <tr>\n",
       "      <th>15</th>\n",
       "      <td>Zebronics Zeb-Transformer-M Optical USB Gaming...</td>\n",
       "      <td>473</td>\n",
       "    </tr>\n",
       "    <tr>\n",
       "      <th>16</th>\n",
       "      <td>Mi Portable Wireless Mouse with Ergonomic Desi...</td>\n",
       "      <td>548</td>\n",
       "    </tr>\n",
       "    <tr>\n",
       "      <th>17</th>\n",
       "      <td>Zinq Technologies 1070 3200 DPI LED Backlight ...</td>\n",
       "      <td>449</td>\n",
       "    </tr>\n",
       "    <tr>\n",
       "      <th>18</th>\n",
       "      <td>iBall Free Go G25 Feather-Light Wireless Optic...</td>\n",
       "      <td>469</td>\n",
       "    </tr>\n",
       "    <tr>\n",
       "      <th>19</th>\n",
       "      <td>Zebronics Zeb-Comfort+ Wired Mouse</td>\n",
       "      <td>138</td>\n",
       "    </tr>\n",
       "  </tbody>\n",
       "</table>\n",
       "</div>"
      ],
      "text/plain": [
       "                                           model_name price\n",
       "0   Zinq Technologies 818W Wireless Mouse with 160...   199\n",
       "1   AmazonBasics 3-Button USB Wired Mouse (Black) ...   329\n",
       "2                   HP X1000 Wired Mouse (Black/Grey)   289\n",
       "3              Lenovo 300 Wired USB Mouse, GX30M39704   249\n",
       "4                            Dell MS116 Optical Mouse   249\n",
       "5   Zinq Technologies ZQ233 Wired Mouse with 1000D...    99\n",
       "6   Logitech M90 Wired USB Mouse, 1000 DPI Optical...   390\n",
       "7   Portronics Toad 12 POR-986 Wireless 2.4G Optic...   299\n",
       "8                iBall Style 63 Optical Mouse (Black)   189\n",
       "9   Zinq Technologies 818W Wireless Mouse with 160...   199\n",
       "10               iBall Style 63 Optical Mouse (Black)   189\n",
       "11  Goldentec 3-Button USB Wired Mouse (Black) - 1...   175\n",
       "12  Ant Esports GM200W Gaming Mouse Wired, 6 Progr...   449\n",
       "13  iBall FreeGo G20 High Speed Wireless Optical M...   339\n",
       "14         Dell MS116 1000DPI USB Wired Optical Mouse   312\n",
       "15  Zebronics Zeb-Transformer-M Optical USB Gaming...   473\n",
       "16  Mi Portable Wireless Mouse with Ergonomic Desi...   548\n",
       "17  Zinq Technologies 1070 3200 DPI LED Backlight ...   449\n",
       "18  iBall Free Go G25 Feather-Light Wireless Optic...   469\n",
       "19                 Zebronics Zeb-Comfort+ Wired Mouse   138"
      ]
     },
     "execution_count": 18,
     "metadata": {},
     "output_type": "execute_result"
    }
   ],
   "source": [
    "# creating a dataframe from the scraped data of only 20 mouses\n",
    "df=pd.DataFrame()\n",
    "df['model_name']=model_name[0:20]\n",
    "df['price']=price[0:20]\n",
    "df"
   ]
  }
 ],
 "metadata": {
  "kernelspec": {
   "display_name": "Python 3",
   "language": "python",
   "name": "python3"
  },
  "language_info": {
   "codemirror_mode": {
    "name": "ipython",
    "version": 3
   },
   "file_extension": ".py",
   "mimetype": "text/x-python",
   "name": "python",
   "nbconvert_exporter": "python",
   "pygments_lexer": "ipython3",
   "version": "3.8.3"
  }
 },
 "nbformat": 4,
 "nbformat_minor": 4
}
