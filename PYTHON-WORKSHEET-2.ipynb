{
 "cells": [
  {
   "cell_type": "markdown",
   "metadata": {},
   "source": [
    "<h2><center><b>Worksheet-2</b><br>\n",
    "<u><b>Python</b></u></center></h2>"
   ]
  },
  {
   "cell_type": "markdown",
   "metadata": {},
   "source": [
    "<b>Q1 to Q8 have only one correct answer. Choose the correct option to answer your question.</b>\n",
    "\n",
    "1. Which of the following is not a core datatype in python?<br>\n",
    "A) list B) struct\n",
    "C) tuple C) set\n",
    "\n",
    "Answer: B) struct\n",
    "2. Which of the following is an invalid variable name in python?<br>\n",
    "A) _init_ B) no_1\n",
    "C) 1_no D) _1\n",
    "\n",
    "Answer: C) 1_no \n",
    "\n",
    "3. Which one of the following is a keyword in python?<br>\n",
    "A) in B) _init_\n",
    "C) on D) foo\n",
    "\n",
    "Answer: A) in\n",
    "\n",
    "4. In which of the following manner are the operators of the same precedence executed in python?<br>\n",
    "A) Left to Right B) BODMAS\n",
    "C) Right to Left D) None of these\n",
    "\n",
    "Answer: A) Left to Right\n",
    "\n",
    "5. Arrange the following in decreasing order of the precedence when they appear in an expression in python?<br>\n",
    "i) Multiplication ii) Division iii) Exponential iv) Parentheses\n",
    "A) iii – iv – ii – i B) iii – iv – i – ii\n",
    "C) iv – iii – ii – i D) iii – ii – i – iv\n",
    "\n",
    "Answer: C) iv - iii - ii - i\n",
    "\n",
    "6. (28//6)**3/3%3 = ?<br>\n",
    "A) 7.1111… B) 0\n",
    "C) 0.3333… D) 1\n",
    "\n",
    "Answer: C) 0.333...\n",
    "\n",
    "7. Which of the following is not equal to x16 ?<br>\n",
    "A) x**4**4 B) x**16\n",
    "C) x^16 D) (x**4)**4\n",
    "\n",
    "Answer: C) x^16\n",
    "\n",
    "8. a = input(“Enter an integer”). What will be the data type of a?<br>\n",
    "A) int B) str\n",
    "C) float D) double\n",
    "\n",
    "Answer: B) str\n",
    "\n",
    "<b>Q9 and Q10 have multiple correct answers. Choose all the correct options to answer your question.</b>\n",
    "\n",
    "9. Which of the following statements are correct?<br>\n",
    "A) Division and multiplication have same precedence in python\n",
    "B) Python’s operators’ precedence is based on PEDMAS\n",
    "C) Python’s operators’ precedence is based on VBODMAS\n",
    "D) In case of operators’ having same precedence, the one on the left side is executed first.\n",
    "\n",
    "Answer: A) Division and multiplication have same precedence in python, B) Python’s operators’ precedence is based on PEDMAS, D) In case of operators’ having same precedence, the one on the left side is executed first.\n",
    "\n",
    "10. Which of the following is(are) valid statement(s) in python?<br>\n",
    "A) abc = 1,000,000 B) a b c = 1000 2000 3000 C) a,b,c = 1000, 2000, 3000 D) a_b_c = 1,000,000\n",
    "\n",
    "Answer: A) abc = 1,000,000, C) a,b,c = 1000, 2000, 3000, D) a_b_c = 1,000,000"
   ]
  },
  {
   "cell_type": "markdown",
   "metadata": {},
   "source": [
    "<b>Q11 to Q13 are subjective questions, answer them briefly</b>\n",
    "\n",
    "11. Differentiate between a list, tuple, set and dictionary.<br>\n",
    "\n",
    "Answer: **List :**                                                                                                        \n",
    "    •\tList is a collection of objects in python.                                                                  \n",
    "    •\tEach element of a list can be of any data type in python.                                                  \n",
    "    •\tLists are mutable. Lists can be changed, modified, sliced and indexed.                                           \n",
    "    •\tLists are declared by using square brackets. E.g., list_1 = [1,2.3,’a’,’Boy’]                                    \n",
    "    **Tuple:**                                                                                                           \n",
    "    •\tTuples are similar to lists, i.e. they are a collection of objects in python.                                         \n",
    "    •\tEach element of a tuple can be of any data type in python.                                                      \n",
    "    •\tTuples are immutable. i.e. They cannot be changed or modified.                                                     \n",
    "    •\tTuples are declared by using parentheses. E.g., tup_1 = (1,2.3,’a’,’Boy’)                                            \n",
    "    **Dictionary:**                                                                                                \n",
    "    •\tDictionary is a collection of key : value pairs of  different data types in python.                    \n",
    "    •\tKeys of dictionary are immutable, i.e. they cannot be changed or modified whereas the Values associated to different Keys are mutable, i.e. they can be changed or modified.                                                  \n",
    "    •\tA tuple can be a key of a dictionary but a list cannot be a key of a dictionary.                             \n",
    "    •\tKeys of a dictionary must be unique, i.e. they should not have repetitions.                                       \n",
    "    •\tDictionaries are declared  using curly brackets. E.g., dict_1 = {‘Key1’ : 5, ‘Key2’ : [1,2,’a’], (add, ph.) : [‘13B Baker Street’, ‘99999999’]}                                                                                                   \n",
    "    **Set:**                                                                                                                   \n",
    "    •\tSet is similar to a list or a tuple, i.e. it is a collection of objects in python.                                   \n",
    "    •\tSets are unordered collection of elements unlike lists or tuples, i.e., they rearrange their elements in increasing order.\n",
    "    •\tSets are mutable but they cannot be indexed because they are unordered. But they can be changed or modified.          \n",
    "    •\tSets are declared using curly brackets. E.g., set_1 = {3,1,2}. Print(set_1) will give: {1,2,3}      \n"
   ]
  },
  {
   "cell_type": "markdown",
   "metadata": {},
   "source": [
    "12. Are strings mutable in python? Suppose you have a string “I+Love+Python”, write a small code to replace ‘+’ with space in python.<br>\n",
    "\n",
    "Answer: No, Strings are immutable in python. You cannot change any character of a string, but you can append two strings by adding them.To change the string you have to create a new sring variable and add the required changes iteratively. However to change the characters you can use the function replace(). But it doesn't change the string, it returns a new string with changes."
   ]
  },
  {
   "cell_type": "code",
   "execution_count": 1,
   "metadata": {},
   "outputs": [
    {
     "data": {
      "text/plain": [
       "'I Love Python'"
      ]
     },
     "execution_count": 1,
     "metadata": {},
     "output_type": "execute_result"
    }
   ],
   "source": [
    "str1 = \"I+Love+Python\"\n",
    "str2 = str1.replace('+', ' ')\n",
    "str2"
   ]
  },
  {
   "cell_type": "markdown",
   "metadata": {},
   "source": [
    "13. What does the function ord() do in python? Explain with example. Also, write down the function for getting the datatype of a variable in python.<br>"
   ]
  },
  {
   "cell_type": "code",
   "execution_count": 2,
   "metadata": {},
   "outputs": [
    {
     "name": "stdout",
     "output_type": "stream",
     "text": [
      "<class 'int'>\n",
      "<class 'float'>\n",
      "<class 'str'>\n",
      "<class 'str'>\n",
      "<class 'list'>\n"
     ]
    }
   ],
   "source": [
    "print(type(4))\n",
    "print(type(2.35))\n",
    "print(type('Hi'))\n",
    "print(type('l'))\n",
    "print(type([1,2,['hello','world']]))"
   ]
  },
  {
   "cell_type": "markdown",
   "metadata": {},
   "source": [
    "<b>Q14 and Q15 are programming questions. Answer them in Jupyter Notebook.</b>"
   ]
  },
  {
   "cell_type": "markdown",
   "metadata": {},
   "source": [
    "14. Write a python program to solve a quadratic equation of the form 𝑎𝑥2+𝑏𝑥+𝑐=0. Where a, b and c are to be taken by user input. Handle the erroneous input, such as ‘a’ should not be equal to 0."
   ]
  },
  {
   "cell_type": "code",
   "execution_count": 4,
   "metadata": {},
   "outputs": [
    {
     "name": "stdout",
     "output_type": "stream",
     "text": [
      "Enter the value of coefficient of x^2, a : 5\n",
      "Enter the value of coefficient of x, b : 3\n",
      "Enter the value of constant term, c : 2\n",
      "x = (-0.29999999999999993+0.5567764362830021j), (-0.30000000000000004-0.5567764362830021j)\n"
     ]
    }
   ],
   "source": [
    "# Program to solve a quadratic equation of the form: ax^2+bx+c=0\n",
    "\n",
    "a = float(input(\"Enter the value of coefficient of x^2, a : \"))\n",
    "b = float(input(\"Enter the value of coefficient of x, b : \"))\n",
    "c = float(input(\"Enter the value of constant term, c : \"))\n",
    "\n",
    "if a == 0:\n",
    "    print(\"Invalid input. a cannot be equal to 0\")\n",
    "else:\n",
    "    x1 = (-b + ((b**2 - 4*a*c)**0.5))/(2*a)          # First root of x\n",
    "    x2 = (-b - ((b**2 - 4*a*c)**0.5))/(2*a)          # Second root of x\n",
    "    print(\"x = {}, {}\".format(x1, x2))"
   ]
  },
  {
   "cell_type": "markdown",
   "metadata": {},
   "source": [
    "15. Write a python program to find the sum of first ‘n’ natural numbers without using any loop. Ask user to input the value of ‘n’."
   ]
  },
  {
   "cell_type": "code",
   "execution_count": 7,
   "metadata": {},
   "outputs": [
    {
     "name": "stdout",
     "output_type": "stream",
     "text": [
      "Enter the value of n : 6\n",
      "Sum of first 6 natural numbers is = 21\n"
     ]
    }
   ],
   "source": [
    "n = int(input(\"Enter the value of n : \"))\n",
    "if n < 0: print(\"Invalid Input\")\n",
    "elif n == 0: print(\"Sum of first {} natural numbers is = 0\".format(n))\n",
    "else: print(\"Sum of first {} natural numbers is = {}\".format(n, n*(n+1)//2))"
   ]
  }
 ],
 "metadata": {
  "kernelspec": {
   "display_name": "Python 3",
   "language": "python",
   "name": "python3"
  },
  "language_info": {
   "codemirror_mode": {
    "name": "ipython",
    "version": 3
   },
   "file_extension": ".py",
   "mimetype": "text/x-python",
   "name": "python",
   "nbconvert_exporter": "python",
   "pygments_lexer": "ipython3",
   "version": "3.8.3"
  }
 },
 "nbformat": 4,
 "nbformat_minor": 4
}
