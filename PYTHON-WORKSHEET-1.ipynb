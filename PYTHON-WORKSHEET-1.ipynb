{
 "cells": [
  {
   "cell_type": "markdown",
   "metadata": {},
   "source": [
    "# PYTHON - WORKSHEET 1\n",
    "## ANSWER KEYS\n",
    "\n",
    "1. (C)\n",
    "2. (B)\n",
    "3. (C)\n",
    "4. (A)\n",
    "5. (D)\n",
    "6. (C)\n",
    "7. (A)\n",
    "8. (A)\n",
    "9. (A), (C)\n",
    "10. (A), (B)\n",
    "11. **Answer is as follows :**"
   ]
  },
  {
   "cell_type": "markdown",
   "metadata": {},
   "source": [
    "<center><h2><b><u>WORKSHEET-1</h2></u></b></center>\n",
    "<center><b><u><h2>Python</u></b></h2></center>"
   ]
  },
  {
   "cell_type": "markdown",
   "metadata": {},
   "source": [
    "<b>Q1 to Q8 have only one correct answer. Choose the correct option to answer your question.</b>\n",
    "1.\tWhich of the following operators is used to calculate remainder in a division?<br>\n",
    "A)\t#\tB) &\n",
    "C) %\tD) $<br>\n",
    "<b>Answer:</b> C) %\n",
    "\n",
    "\n",
    "2.\tIn python 2//3 is equal to?<br>\n",
    "A) 0.666\tB) 0\n",
    "C) 1\tD) 0.67<br>\n",
    "<b>Answer:</b> B) 0\n",
    "\n",
    "\n",
    "3.\tIn python, 6<<2 is equal to?<br>\n",
    "A) 36\tB) 10\n",
    "C) 24\tD) 45<br>\n",
    "<b>Answer:</b>C) 24\n",
    "\n",
    "\n",
    "4.\tIn python, 6&2 will give which of the following as output?<br>\n",
    "A)\t2\tB) True\n",
    "C) False\tD) 0<br>\n",
    "<b>Answer:</b> A) 2\n",
    "\n",
    "\n",
    "5.\tIn python, 6|2 will give which of the following as output?<br>\n",
    "A)\t2\tB) 4\n",
    "C) 0\tD) 16<br>\n",
    "<b>Answer:</b> D) 16\n",
    "\n",
    "\n",
    "6.\tWhat does the finally keyword denotes in python?<br>\n",
    "A)\tIt is used to mark the end of the code\n",
    "B)\tIt encloses the lines of code which will be executed if any error occurs while executing the lines of code in the try block.\n",
    "C)\tthe finally block will be executed no matter if the try block raises an error or not.\n",
    "D)\tNone of the above<br>\n",
    "<b>Answer:</b> C) the finally block will be executed no matter if the try block raises an error or not.\n",
    "\n",
    "\n",
    "7.\tWhat does raise keyword is used for in python?<br>\n",
    "A)\tIt is used to raise an exception.\tB) It is used to define lambda function\n",
    "C) it's not a keyword in python.\tD) None of the above<br>\n",
    "<b>Answer:</b> A) It is used to raise an exception\n",
    "\n",
    "\n",
    "8.\tWhich of the following is a common use case of yield keyword in python?<br>\n",
    "A)\tin defining an iterator\tB) while defining a lambda function\n",
    "C) in defining a generator\tD) in for loop.<br>\n",
    "<b>Answer:</b> A) in defining an iterator\n",
    "\n"
   ]
  },
  {
   "cell_type": "markdown",
   "metadata": {},
   "source": [
    "<b>Q9 and Q10 have multiple correct answers. Choose all the correct options to answer your question.</b>\n",
    "9.\tWhich of the following are the valid variable names?<br>\n",
    "A)\t_abc\tB) 1abc\n",
    "C) abc2\tD) None of the above<br>\n",
    "<b>Answer:</b> A) _abc, C) abc2\n",
    "\n",
    "\n",
    "10.\tWhich of the following are the keywords in python?<br>\n",
    "A)\tyield\tB) raise\n",
    "C) look-in\tD) all of the above<br>\n",
    "<b>Answer:</b> A) yield, B) raise\n"
   ]
  },
  {
   "cell_type": "markdown",
   "metadata": {},
   "source": [
    "<b>Q11 to Q15 are programming questions. Answer them in Jupyter Notebook.</b><br>\n",
    "11.\tWrite a python program to find the factorial of a number.\n"
   ]
  },
  {
   "cell_type": "code",
   "execution_count": 3,
   "metadata": {},
   "outputs": [
    {
     "name": "stdout",
     "output_type": "stream",
     "text": [
      "Enter the number to find the factorial:45\n",
      "The factorial is  119622220865480194561963161495657715064383733760000000000\n"
     ]
    }
   ],
   "source": [
    "n=int(input(\"Enter the number to find the factorial:\"))\n",
    "def fact(n):\n",
    "    \n",
    "    if n==1 :\n",
    "        return 1\n",
    "    else :\n",
    "        return n*fact(n-1)\n",
    "    \n",
    "if n<0 :\n",
    "    print(\" number is negative . factorial not possible\")\n",
    "elif n==0:\n",
    "    print(\"The factorial is \",1)\n",
    "else:\n",
    "     print(\"The factorial is \",fact(n))"
   ]
  },
  {
   "cell_type": "markdown",
   "metadata": {},
   "source": [
    "12.\tWrite a python program to find whether a number is prime or composite."
   ]
  },
  {
   "cell_type": "code",
   "execution_count": 6,
   "metadata": {},
   "outputs": [
    {
     "name": "stdout",
     "output_type": "stream",
     "text": [
      "Enter the number:5\n",
      "Number is prime\n"
     ]
    }
   ],
   "source": [
    "n=int(input('Enter the number:'))\n",
    "if n==0 or n==1:\n",
    "    print(\"neither prime nor composite\")\n",
    "else:\n",
    "    k=[]\n",
    "    for i in range(1,n):\n",
    "        if n%i==0:\n",
    "            k.append(i)\n",
    "    if len(k)<=2:\n",
    "        print(\"Number is prime\")\n",
    "        \n",
    "    else :\n",
    "        print(\"Number is composite\")  "
   ]
  },
  {
   "cell_type": "markdown",
   "metadata": {},
   "source": [
    "13.\tWrite a python program to check whether a given string is palindrome or not."
   ]
  },
  {
   "cell_type": "code",
   "execution_count": 7,
   "metadata": {},
   "outputs": [
    {
     "name": "stdout",
     "output_type": "stream",
     "text": [
      "Enter the string:lol\n",
      "The string is palindrome\n"
     ]
    }
   ],
   "source": [
    "string=input(\"Enter the string:\")\n",
    "rev_string=\"\"\n",
    "for i in range(1,len(string)+1):\n",
    "    rev_string=rev_string+string.lower()[-i]\n",
    "if rev_string==string:\n",
    "    print(\"The string is palindrome\")\n",
    "else :\n",
    "    print(\"The string is not palindrome\")"
   ]
  },
  {
   "cell_type": "markdown",
   "metadata": {},
   "source": [
    "14.\tWrite a Python program to get the third side of right-angled triangle from two given sides."
   ]
  },
  {
   "cell_type": "code",
   "execution_count": 9,
   "metadata": {},
   "outputs": [
    {
     "name": "stdout",
     "output_type": "stream",
     "text": [
      "Enter the base of the right angled triangle:5\n",
      "Enter the perpendicular of the right angled triangle:6\n",
      "the length of hypotenuse is: 7.810249675906654\n"
     ]
    }
   ],
   "source": [
    "import math\n",
    "a=int(input(\"Enter the base of the right angled triangle:\"))\n",
    "b=int(input(\"Enter the perpendicular of the right angled triangle:\"))\n",
    "print(\"the length of hypotenuse is:\",math.sqrt(a**2+b**2))"
   ]
  },
  {
   "cell_type": "markdown",
   "metadata": {},
   "source": [
    "15.\tWrite a python program to print the frequency of each of the characters present in a given string."
   ]
  },
  {
   "cell_type": "code",
   "execution_count": 15,
   "metadata": {},
   "outputs": [
    {
     "name": "stdout",
     "output_type": "stream",
     "text": [
      "Enter the string:Data Science\n",
      " The frequencies of characters in the string are {'D': 1, 'a': 2, 't': 1, ' ': 1, 'S': 1, 'c': 2, 'i': 1, 'e': 2, 'n': 1}\n"
     ]
    }
   ],
   "source": [
    "string=input(\"Enter the string:\")\n",
    "freq=dict()\n",
    "for i in string :\n",
    "    if i in freq.keys():\n",
    "        freq[i]=freq[i]+1\n",
    "    else :\n",
    "        freq[i]=1\n",
    "print(\" The frequencies of characters in the string are\",freq)"
   ]
  }
 ],
 "metadata": {
  "kernelspec": {
   "display_name": "Python 3",
   "language": "python",
   "name": "python3"
  },
  "language_info": {
   "codemirror_mode": {
    "name": "ipython",
    "version": 3
   },
   "file_extension": ".py",
   "mimetype": "text/x-python",
   "name": "python",
   "nbconvert_exporter": "python",
   "pygments_lexer": "ipython3",
   "version": "3.8.3"
  }
 },
 "nbformat": 4,
 "nbformat_minor": 4
}
