{
 "cells": [
  {
   "cell_type": "markdown",
   "metadata": {},
   "source": [
    "<B>Q1 to Q8 have only one correct answer. Choose the correct option to answer your question.</B>"
   ]
  },
  {
   "cell_type": "markdown",
   "metadata": {},
   "source": [
    "1.\tWhich of the following function is used to determine the length of a string in python?<BR>\n",
    "A)\tlength()\tB) len()\n",
    "C) strlen()\tC) stringlen()<br>\n",
    "Answer: B) len()\n"
   ]
  },
  {
   "cell_type": "markdown",
   "metadata": {},
   "source": [
    "2.\tPython is?<br>\n",
    "A)\tcompiled\tB) interpreted\n",
    "C) compiled then interpreted\tD) none of these<br>\n",
    "Answer: C) compiled and interpreted\n"
   ]
  },
  {
   "cell_type": "raw",
   "metadata": {},
   "source": [
    "3.\tWhat will be the output of the following?<br>\n",
    "    a = [1,2,3,2,1]\n",
    "    a.pop(2)\n",
    "    print(a)\n",
    "A) [1,3,2,1]\tB) [1,2,2,1]\n",
    "C) [1,2,3,1]\tD) [1,3,1]<br>\n",
    "Answer: B) [1,2,2,1]"
   ]
  },
  {
   "cell_type": "markdown",
   "metadata": {},
   "source": [
    "4. If alist = [10,20,30,40,50,60], then alist[ : : -3] = ?<br>\n",
    "A) [40,30,20,10]\tB) [30,20,10]\n",
    "C) [60,30,10]\tD) [60,30]<br>\n",
    "Answer: D) [60,30]\n"
   ]
  },
  {
   "cell_type": "markdown",
   "metadata": {},
   "source": [
    "5.\tWhich of the following will give the reverse of list ‘a’:<br>\n",
    "A) a[-1:0]\tB) a[-1:-4]\n",
    "C) a[ : :-1]\tD) a[0:-1:-1]<br>\n",
    "Answer: C) a[ : :-1]\n"
   ]
  },
  {
   "cell_type": "raw",
   "metadata": {},
   "source": [
    "6.\tIf a = True, b = False and c = True. Then what will be the output of following code:<br>\n",
    "\n",
    "if not a or b:\n",
    "    print(\"Eena\")\n",
    "elif not a or not b and c:\n",
    "    print(\"Meena\")\n",
    "elif not a or b or not b and a:\n",
    "    print(\"Deeka\")\n",
    "else:\n",
    "    print(\"Domniqaa\")\n",
    "\n",
    "A)\tEeena\tB) Meena\n",
    "C) Deeka\tD) Domniqaa\n",
    "Answer: B) Meena\n"
   ]
  },
  {
   "cell_type": "markdown",
   "metadata": {},
   "source": [
    "7.\tWhat is the output of the following?<br>\n",
    "print([x+y for y in [“Hello ”, “Adios ”] for x in [“World ”, “Python ”]])<br>\n",
    "A)\t[“Hello World ”, “Hello Python ”, “Adios World ”, “Adios Python ”]<br>\n",
    "B)\t[“Hello World ”, “Adios World ”, “Hello Python ”, “Adios Python ”]<br>\n",
    "C)\t[“World Hello ”, “Python Hello ”, “World Adios ”, “Python Adios ”]<br>\n",
    "D)\t[“World Hello ”, “World Adios ”, “Python Hello ”, “Python Adios ”]<br>\n",
    "Answer: C) [\"World Hello \", \"Python Hello \", \"World Aldios \", \"Python Adios \"]"
   ]
  },
  {
   "cell_type": "markdown",
   "metadata": {},
   "source": [
    "8.\tStr1 = “Hello Python”. What will be the output of : print(Str1.find(‘o’))<br>\n",
    "A) 4\tB) 4,10\n",
    "C) 5,11\tD) 5<br>\n",
    "Answer: A) 4\n"
   ]
  },
  {
   "cell_type": "markdown",
   "metadata": {},
   "source": [
    "<b>Q9 and Q10 have multiple correct answers. Choose all the correct options to answer your question.</b>\n"
   ]
  },
  {
   "cell_type": "markdown",
   "metadata": {},
   "source": [
    "9.\tWhich of the following is(are) correct method(s) to join two lists l1 and l2?<br>\n",
    "A)\tl1+l2\tB) l1.append(l2)\n",
    "C) append(l1,l2)\tD) l1.extend(l2)<br>\n",
    "Answer: A) l1+l2, D) l1.extend(l2)\n"
   ]
  },
  {
   "cell_type": "raw",
   "metadata": {},
   "source": [
    "10.\ts = “pyworld”. Select all of the following which give same results?\n",
    "A) s[0]+s[-1]\tB) s[ : : -1][-1] + s[len(s)-1]\n",
    "C) s[ : : -6]\tD) s[ : : -1][ : : -6]\n",
    "Answer: A) s[0] + s[-1], B) s[ : : -1][-1] + s[len(s)-1], D) s[ : : -1][ : : -6]\n"
   ]
  },
  {
   "cell_type": "markdown",
   "metadata": {},
   "source": [
    "<b>Q11 to Q13 are subjective questions, answer them briefly</.b>"
   ]
  },
  {
   "cell_type": "markdown",
   "metadata": {},
   "source": [
    "11.\tDifferentiate between a compiler and an interpreter? Which of them is used in python language?"
   ]
  },
  {
   "cell_type": "markdown",
   "metadata": {},
   "source": [
    "Answer:\n",
    "<ol>\n",
    "<li> Compiler scans the entire program and translates it as whole into machine code whereas interpreter takes single line code at a time.</li>\n",
    "<li> Compiler requires more memory due to the creation of object code whereas interpreter requires less memory as it does not create immediate object code.</li>\n",
    "<li> Compiler display all errors after compilation whereas interpreter displays error of each line one by one.</li>\n",
    "</ol>\n",
    "<li>Python language uses interpreter, the reason is it execute the single line of code at a time.</li>"
   ]
  },
  {
   "cell_type": "markdown",
   "metadata": {},
   "source": [
    "12.\tWhat is the purpose of PYTHONPATH environment variable?"
   ]
  },
  {
   "cell_type": "markdown",
   "metadata": {},
   "source": [
    "PYTHONPATH purpose is to correctly locate python packages and modules across your filesystem. It should include the Python source library directory and the directories containing Python source code. PYTHONPATH is sometimes preset by the Python installer."
   ]
  },
  {
   "cell_type": "markdown",
   "metadata": {},
   "source": [
    "13.\tHow will you remove all the leading and trailing whitespaces in a string in python? Give one example."
   ]
  },
  {
   "cell_type": "code",
   "execution_count": 61,
   "metadata": {},
   "outputs": [
    {
     "name": "stdout",
     "output_type": "stream",
     "text": [
      "String ='  python  '\n",
      "After Removing Leading Whitespaces='python  '\n",
      "After Removing Trailing Whitespaces='  python'\n"
     ]
    }
   ],
   "source": [
    "string = '  python  '\n",
    "\n",
    "print(f'String =\\'{string}\\'')\n",
    "\n",
    "print(f'After Removing Leading Whitespaces=\\'{string.lstrip()}\\'')\n",
    "\n",
    "print(f'After Removing Trailing Whitespaces=\\'{string.rstrip()}\\'')"
   ]
  },
  {
   "cell_type": "markdown",
   "metadata": {},
   "source": [
    "<b>Q14 and Q15 are programming questions. Answer them in Jupyter Notebook.</b>"
   ]
  },
  {
   "cell_type": "markdown",
   "metadata": {},
   "source": [
    "14.\tWrite a python program to represent a user entered number in expanded form.\n",
    "For eg: user_input = 12345\n",
    "            Output = 1*10000 + 2*1000 + 3*100 + 4*10 + 5*1"
   ]
  },
  {
   "cell_type": "code",
   "execution_count": 1,
   "metadata": {},
   "outputs": [
    {
     "name": "stdout",
     "output_type": "stream",
     "text": [
      "Enter a non negative integer number :12345\n",
      "Expanded form =  1 * 10000 + 2 * 1000 + 3 * 100 + 4 * 10 + 5 * 1\n"
     ]
    }
   ],
   "source": [
    "# Program for displaying expanded form of a number\n",
    "num = int(input(\"Enter a non negative integer number :\"))\n",
    "\n",
    "# Changed num variable to string, \n",
    "# and calculated the length (number of digits)\n",
    "order = len(str(num))\n",
    "\n",
    "#Empty string to store the results\n",
    "res = ''\n",
    "\n",
    "for i in range(order-1,0,-1):\n",
    "    d = num//(10**i)\n",
    "    res+=\"{} * {} + \".format(d, 10**(i))\n",
    "    num %= 10**i\n",
    "res+=\"{} * 1\".format(num)\n",
    "print(\"Expanded form = \", res)"
   ]
  },
  {
   "cell_type": "markdown",
   "metadata": {},
   "source": [
    "15.\tWrite a python program to determine whether the number entered by the user is an Armstrong number or not?"
   ]
  },
  {
   "cell_type": "code",
   "execution_count": 2,
   "metadata": {},
   "outputs": [
    {
     "name": "stdout",
     "output_type": "stream",
     "text": [
      "Enter a non negative integer number :185\n",
      "185 is not an Armstrong number\n"
     ]
    }
   ],
   "source": [
    "# Program to check whether entered number is an armstrong number or not\n",
    "\n",
    "num = int(input(\"Enter a non negative integer number :\"))\n",
    "\n",
    "# Changed num variable to string, \n",
    "# and calculated the length (number of digits)\n",
    "order = len(str(num))\n",
    "\n",
    "# initialize sum\n",
    "sum = 0\n",
    "\n",
    "# find the sum of the each digit raised to the power of the order\n",
    "temp = num\n",
    "while temp > 0:\n",
    "    digit = temp % 10\n",
    "    sum += digit ** order\n",
    "    temp //= 10\n",
    "\n",
    "# display the result\n",
    "if num == sum:\n",
    "    print(num,\" is an Armstrong number of the order \", order)\n",
    "else:\n",
    "    print(num,\"is not an Armstrong number\")"
   ]
  }
 ],
 "metadata": {
  "kernelspec": {
   "display_name": "Python 3",
   "language": "python",
   "name": "python3"
  },
  "language_info": {
   "codemirror_mode": {
    "name": "ipython",
    "version": 3
   },
   "file_extension": ".py",
   "mimetype": "text/x-python",
   "name": "python",
   "nbconvert_exporter": "python",
   "pygments_lexer": "ipython3",
   "version": "3.7.0"
  }
 },
 "nbformat": 4,
 "nbformat_minor": 2
}
